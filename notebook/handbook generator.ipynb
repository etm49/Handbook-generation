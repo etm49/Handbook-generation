{
 "cells": [
  {
   "cell_type": "code",
   "execution_count": null,
   "id": "5bccfb37",
   "metadata": {},
   "outputs": [],
   "source": [
    "import os, sys\n",
    "#from docxtpl import DocxTemplate\n",
    "#import docx2txt\n",
    "import docx\n",
    "from docx_replace import docx_replace\n",
    "\n",
    "#import inflect\n",
    "import pandas as pd\n",
    "import json\n",
    "import re\n",
    "from enum import Enum\n"
   ]
  },
  {
   "cell_type": "markdown",
   "id": "2f2d8b3e",
   "metadata": {},
   "source": [
    "# Import indicator data for calculating values"
   ]
  },
  {
   "cell_type": "code",
   "execution_count": null,
   "id": "fe6a8abd",
   "metadata": {},
   "outputs": [],
   "source": [
    "# location where indicator data is stored\n",
    "data_path = \"../indicator data/\"\n",
    "\n",
    "indicatorMeta = pd.read_csv(data_path+\"indicatorMeta.csv\")\n",
    "indicatorData = pd.read_csv(data_path+\"indicatorData.csv\").sort_index(axis=1)\n",
    "\n",
    "\n",
    "# Opening SIDS JSON file\n",
    "with open(data_path+'undpSids.json', 'r') as openfile:\n",
    "  \n",
    "    # Reading from json file\n",
    "    undpSids = json.load(openfile)\n",
    "\n",
    "# Create a list of SIDS iso-3 codes\n",
    "SIDS = [] \n",
    "for i in undpSids.keys():\n",
    "    SIDS.append(undpSids[i])\n",
    "    \n",
    "# create a dictionary with SIDS iso-3 codes as keys and country names as values\n",
    "sidsNames = {}\n",
    "sidsNames = dict([(value, key) for key, value in undpSids.items()])"
   ]
  },
  {
   "cell_type": "code",
   "execution_count": null,
   "id": "712323ac",
   "metadata": {},
   "outputs": [],
   "source": [
    "# Opening SIDS JSON file\n",
    "with open(data_path+'region.json', 'r') as openfile:\n",
    "  \n",
    "    # Reading from json file\n",
    "    undpSidsRegion = json.load(openfile)\n",
    "\n",
    "# Create a list of SIDS iso-3 codes"
   ]
  },
  {
   "cell_type": "code",
   "execution_count": null,
   "id": "8e9c3578",
   "metadata": {},
   "outputs": [],
   "source": [
    "# Create regional lists\n",
    "pacificRegion = []\n",
    "carribeanRegion = []\n",
    "aisRegion = []\n",
    "for i in undpSidsRegion:\n",
    "    if i[\"region\"] == \"Caribbean\":\n",
    "        carribeanRegion.append(i[\"iso\"])\n",
    "    elif i[\"region\"] == \"AIS\":\n",
    "        aisRegion.append(i[\"iso\"])\n",
    "    elif i[\"region\"] == \"Pacific\":\n",
    "        pacificRegion.append(i[\"iso\"])\n",
    "    "
   ]
  },
  {
   "cell_type": "markdown",
   "id": "4ea47a54",
   "metadata": {},
   "source": [
    "# Define the year for which you want to update values of analysis to"
   ]
  },
  {
   "cell_type": "code",
   "execution_count": null,
   "id": "4586e115",
   "metadata": {},
   "outputs": [],
   "source": [
    "year = 2016"
   ]
  },
  {
   "cell_type": "markdown",
   "id": "b3b430c7",
   "metadata": {},
   "source": [
    "# Define Indicators, statical measurement names and other codes that will be used in document"
   ]
  },
  {
   "cell_type": "code",
   "execution_count": null,
   "id": "a341a665",
   "metadata": {},
   "outputs": [],
   "source": [
    "# statistics that will be calculated\n",
    "class stats(Enum):\n",
    "    minSids = 'SIDS minimum'\n",
    "    minGlobal = 'Global minimum'\n",
    "    maxSids = 'SIDS maximum'\n",
    "    maxGlobal = 'Global maximum'\n",
    "    aveSids = 'SIDS average'\n",
    "    aveGlobal = 'Global average'\n",
    "    minPacific = 'pacific minimum'\n",
    "    maxPacific = 'pacific maximum'\n",
    "    avePacific = 'pacific average'\n",
    "    minCarribean = 'Carribean minimum'\n",
    "    maxCarribean = 'Carribean maximum'\n",
    "    aveCarribean = 'Carribean average'\n",
    "    minAIS = 'AIS minimum'\n",
    "    maxAIS = 'AIS maximum'\n",
    "    aveAIS = 'AIS average'\n",
    "# values that will be inserted into the text\n",
    "class outputs(Enum):\n",
    "    countryName = 'name of country'\n",
    "    value = 'statistical value calculated'\n",
    "    year = 'year under consideration'"
   ]
  },
  {
   "cell_type": "markdown",
   "id": "8fb5f60b",
   "metadata": {},
   "source": [
    "# import input files document"
   ]
  },
  {
   "cell_type": "code",
   "execution_count": null,
   "id": "6678a1f5",
   "metadata": {},
   "outputs": [],
   "source": [
    "input_path = \"../word doc/input/\"\n",
    "\n",
    "output_path = \"../word doc/output/\""
   ]
  },
  {
   "cell_type": "code",
   "execution_count": null,
   "id": "be0814ad",
   "metadata": {},
   "outputs": [],
   "source": [
    "files = [\"EPI Analysis demo input.docx\", \"EPI Analysis demo input FONT.docx\"]"
   ]
  },
  {
   "cell_type": "code",
   "execution_count": null,
   "id": "ff62fba2",
   "metadata": {},
   "outputs": [],
   "source": [
    "doc = docx.Document(input_path +  files[0])\n",
    "fontDoc = docx.Document(input_path + files[1])\n"
   ]
  },
  {
   "cell_type": "markdown",
   "id": "86881a6e",
   "metadata": {},
   "source": [
    "# Define statistic calculating function"
   ]
  },
  {
   "cell_type": "code",
   "execution_count": null,
   "id": "d135c318",
   "metadata": {},
   "outputs": [],
   "source": [
    "def statCalculator(code_list):\n",
    "\n",
    "    assert len(code_list) in [1,3], \"code length is wrong\"\n",
    "    \n",
    "    # Return year\n",
    "    if code_list[-1] == outputs.year.name:\n",
    "        return str(year)\n",
    "    else:\n",
    "        requiredStat = code_list[1]\n",
    "        requiredOutput = code_list[2]\n",
    "        indicator = code_list[0]\n",
    "        # Calculate stat\n",
    "        if (requiredStat == stats.minSids.name):\n",
    "            data = indicatorData[(indicatorData[\"Indicator Code\"]==indicator)&(indicatorData[\"Country Code\"].isin(SIDS))][[str(year),\"Country Code\"]].min()\n",
    "        elif (requiredStat == stats.minGlobal.name):\n",
    "            data = indicatorData[indicatorData[\"Indicator Code\"]==indicator][[str(year),\"Country Code\"]].min()\n",
    "        elif (requiredStat == stats.maxSids.name):\n",
    "            data = indicatorData[(indicatorData[\"Indicator Code\"]==indicator)&(indicatorData[\"Country Code\"].isin(SIDS))][[str(year),\"Country Code\"]].max()\n",
    "        elif (requiredStat == stats.maxGlobal.name):\n",
    "            data = indicatorData[indicatorData[\"Indicator Code\"]==indicator][[str(year),\"Country Code\"]].max()\n",
    "        elif (requiredStat == stats.aveSids.name):\n",
    "            data = indicatorData[(indicatorData[\"Indicator Code\"]==indicator)&(indicatorData[\"Country Code\"].isin(SIDS))][[str(year),\"Country Code\"]].mean()\n",
    "        elif (requiredStat == stats.aveGlobal.name):\n",
    "            data = indicatorData[indicatorData[\"Indicator Code\"]==indicator][[str(year),\"Country Code\"]].mean()\n",
    "        elif (requiredStat == stats.minPacific.name):\n",
    "            data = indicatorData[(indicatorData[\"Indicator Code\"]==indicator)&(indicatorData[\"Country Code\"].isin(pacificRegion))][[str(year),\"Country Code\"]].min()\n",
    "        elif (requiredStat == stats.maxPacific.name):\n",
    "            data = indicatorData[(indicatorData[\"Indicator Code\"]==indicator)&(indicatorData[\"Country Code\"].isin(pacificRegion))][[str(year),\"Country Code\"]].max()\n",
    "        elif (requiredStat == stats.avePacific.name):\n",
    "            data = indicatorData[(indicatorData[\"Indicator Code\"]==indicator)&(indicatorData[\"Country Code\"].isin(pacificRegion))][[str(year),\"Country Code\"]].mean()\n",
    "        elif (requiredStat == stats.minCarribean.name):\n",
    "            data = indicatorData[(indicatorData[\"Indicator Code\"]==indicator)&(indicatorData[\"Country Code\"].isin(carribeanRegion))][[str(year),\"Country Code\"]].min()\n",
    "        elif (requiredStat == stats.maxCarribean.name):\n",
    "            data = indicatorData[(indicatorData[\"Indicator Code\"]==indicator)&(indicatorData[\"Country Code\"].isin(carribeanRegion))][[str(year),\"Country Code\"]].max()\n",
    "        elif (requiredStat == stats.aveCarribean.name):\n",
    "            data = indicatorData[(indicatorData[\"Indicator Code\"]==indicator)&(indicatorData[\"Country Code\"].isin(carribeanRegion))][[str(year),\"Country Code\"]].mean()\n",
    "        elif (requiredStat == stats.minAIS.name):\n",
    "            data = indicatorData[(indicatorData[\"Indicator Code\"]==indicator)&(indicatorData[\"Country Code\"].isin(aisRegion))][[str(year),\"Country Code\"]].min()\n",
    "        elif (requiredStat == stats.maxAIS.name):\n",
    "            data = indicatorData[(indicatorData[\"Indicator Code\"]==indicator)&(indicatorData[\"Country Code\"].isin(aisRegion))][[str(year),\"Country Code\"]].max()\n",
    "        elif (requiredStat == stats.aveAIS.name):\n",
    "            data = indicatorData[(indicatorData[\"Indicator Code\"]==indicator)&(indicatorData[\"Country Code\"].isin(aisRegion))][[str(year),\"Country Code\"]].mean()\n",
    "\n",
    "        # Return required output\n",
    "        if requiredOutput == outputs.value.name:\n",
    "            return str(round(data[str(year)],2))\n",
    "        elif requiredOutput == outputs.countryName.name:\n",
    "            return sidsNames[data[\"Country Code\"]]\n",
    "def processor(code):\n",
    "    code_list = code.strip(\"{}\").split(\",\")\n",
    "    return statCalculator(code_list=code_list)\n",
    "    "
   ]
  },
  {
   "cell_type": "markdown",
   "id": "95127ebc",
   "metadata": {},
   "source": [
    "# Replace  with font and style loss"
   ]
  },
  {
   "cell_type": "markdown",
   "id": "044ad59c",
   "metadata": {},
   "source": [
    "### Replace coded texts in paragraphs (those between curly brackets according to the enumeration classes)"
   ]
  },
  {
   "cell_type": "code",
   "execution_count": null,
   "id": "358ad554",
   "metadata": {},
   "outputs": [],
   "source": [
    "for p in doc.paragraphs:\n",
    "    temp = re.findall(r'\\{.*?\\}', p.text)\n",
    "    if len(temp) > 0:\n",
    "        result = [processor(i) for i in temp]\n",
    "        for ind,val in enumerate(temp):\n",
    "            p.text = p.text.replace(val, result[ind],1)\n",
    "    print(p.text)\n"
   ]
  },
  {
   "cell_type": "markdown",
   "id": "59f02a0e",
   "metadata": {},
   "source": [
    "### Replace coded texts in tables (those between curly brackets according to the enumeration classes)"
   ]
  },
  {
   "cell_type": "code",
   "execution_count": null,
   "id": "981b5a5e",
   "metadata": {},
   "outputs": [],
   "source": [
    "for table in doc.tables:\n",
    "    for row in table.rows:\n",
    "        for cell in row.cells:\n",
    "            for p in cell.paragraphs:\n",
    " \n",
    "                temp = re.findall(r'\\{.*?\\}', p.text)\n",
    "                if len(temp) > 0:\n",
    "                    result = [processor(i) for i in temp]\n",
    "                    for ind,val in enumerate(temp):\n",
    "                        p.text = p.text.replace(val, result[ind],1)\n",
    "                print(p.text)"
   ]
  },
  {
   "cell_type": "code",
   "execution_count": null,
   "id": "24a371db",
   "metadata": {},
   "outputs": [],
   "source": [
    "os.getcwd()"
   ]
  },
  {
   "cell_type": "code",
   "execution_count": null,
   "id": "922b152a",
   "metadata": {},
   "outputs": [],
   "source": [
    " for roots,dirs,files in os.walk(os.getcwd()):\n",
    "        print(roots)"
   ]
  },
  {
   "cell_type": "code",
   "execution_count": null,
   "id": "8a08e1a1",
   "metadata": {},
   "outputs": [],
   "source": [
    "# save new word document with replaced values\n",
    "doc.save(output_path + \"EPI Analysis GENERATED.docx\")"
   ]
  },
  {
   "cell_type": "markdown",
   "id": "eaddcb9d",
   "metadata": {},
   "source": [
    "# Replace without font and style loss [NOT WORKING]"
   ]
  },
  {
   "cell_type": "markdown",
   "id": "2b749eb5",
   "metadata": {},
   "source": [
    "REFERENCE: https://github.com/ivanbicalho/python-docx-replace"
   ]
  },
  {
   "cell_type": "code",
   "execution_count": null,
   "id": "d1b379be",
   "metadata": {},
   "outputs": [],
   "source": [
    "temp = []\n",
    "for p in fontDoc.paragraphs:\n",
    "    print(p.text)\n",
    "    temp.extend(re.findall(r'\\{.*?\\}', p.text))\n",
    "\n",
    "for table in fontDoc.tables:\n",
    "    for row in table.rows:\n",
    "        for cell in row.cells:\n",
    "            for p in cell.paragraphs:\n",
    "                temp.extend(re.findall(r'\\{.*?\\}', p.text))\n",
    "\n",
    "result = [processor(i) for i in temp]\n",
    "temp = [\"$\"+code for code in temp]\n"
   ]
  },
  {
   "cell_type": "code",
   "execution_count": null,
   "id": "7ab9a14a",
   "metadata": {},
   "outputs": [],
   "source": [
    "for ind,val in enumerate(temp):\n",
    "    docx_replace(fontDoc, val=result[ind])"
   ]
  },
  {
   "cell_type": "code",
   "execution_count": null,
   "id": "229669a7",
   "metadata": {},
   "outputs": [],
   "source": [
    "fontDoc.save(output_path + \"EPI Analysis FONT GENERATED.docx\")"
   ]
  },
  {
   "cell_type": "code",
   "execution_count": null,
   "id": "c9f05c8d",
   "metadata": {},
   "outputs": [],
   "source": [
    "#code = '{epi-EPI,aveSids,value}'"
   ]
  }
 ],
 "metadata": {
  "kernelspec": {
   "display_name": "Python 3 (ipykernel)",
   "language": "python",
   "name": "python3"
  },
  "language_info": {
   "codemirror_mode": {
    "name": "ipython",
    "version": 3
   },
   "file_extension": ".py",
   "mimetype": "text/x-python",
   "name": "python",
   "nbconvert_exporter": "python",
   "pygments_lexer": "ipython3",
   "version": "3.9.0"
  }
 },
 "nbformat": 4,
 "nbformat_minor": 5
}
